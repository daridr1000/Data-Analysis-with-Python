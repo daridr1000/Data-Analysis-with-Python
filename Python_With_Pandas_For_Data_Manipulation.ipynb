{
  "nbformat": 4,
  "nbformat_minor": 0,
  "metadata": {
    "colab": {
      "name": "Python With Pandas For Data Manipulation",
      "provenance": [],
      "collapsed_sections": [
        "0oAbKOTWzTsV",
        "BSOpBMVcRZS2",
        "xrEEe7KfRYxO",
        "IqDh6VA_TQqC",
        "NDkbEA1IzcY0"
      ],
      "include_colab_link": true
    },
    "kernelspec": {
      "display_name": "Python 3",
      "name": "python3"
    }
  },
  "cells": [
    {
      "cell_type": "markdown",
      "metadata": {
        "id": "view-in-github",
        "colab_type": "text"
      },
      "source": [
        "<a href=\"https://colab.research.google.com/github/daridr1000/Data-Analysis-with-Python/blob/main/Python_With_Pandas_For_Data_Manipulation.ipynb\" target=\"_parent\"><img src=\"https://colab.research.google.com/assets/colab-badge.svg\" alt=\"Open In Colab\"/></a>"
      ]
    },
    {
      "cell_type": "markdown",
      "metadata": {
        "id": "OaiQsbpeSUrJ"
      },
      "source": [
        "# Python With Pandas For Data Manipulation\n",
        " by Erik Staas and Darius Dragnea"
      ]
    },
    {
      "cell_type": "markdown",
      "metadata": {
        "id": "yV3ziokLGK4t"
      },
      "source": [
        "* *We are waiting five minutes for everyone to join us!*\n",
        "* **!! Make sure you have a gmail account**"
      ]
    },
    {
      "cell_type": "markdown",
      "metadata": {
        "id": "rHIG6C-pGHXv"
      },
      "source": [
        "## Agenda"
      ]
    },
    {
      "cell_type": "markdown",
      "metadata": {
        "id": "vHUXfnNdVpzn"
      },
      "source": [
        "In this session:\n",
        "* Quick recap from last two weeks\n",
        "* What is Data Analysis?\n",
        "* Why Python for Data Analysis ?\n",
        "* Introduction to Pandas (Data Frames)"
      ]
    },
    {
      "cell_type": "markdown",
      "metadata": {
        "id": "v-8QL5w_sRZG"
      },
      "source": [
        "## Quick recap"
      ]
    },
    {
      "cell_type": "markdown",
      "metadata": {
        "id": "2XWa2su0syDe"
      },
      "source": [
        "### Workshop 1\n"
      ]
    },
    {
      "cell_type": "code",
      "metadata": {
        "id": "iVrcaWIzs0-m",
        "colab": {
          "base_uri": "https://localhost:8080/"
        },
        "outputId": "a8bb1079-108a-4019-9275-64e4f6226c2a"
      },
      "source": [
        "def find_max(numbers): \n",
        "  max_number = 0 # assume the given list only contains natural numbers\n",
        "  for i in numbers: \n",
        "    if i > max_number: \n",
        "      max_number = i               \n",
        "  return max_number\n",
        "numbers = [2,5,1,6,9,3]\n",
        "print(find_max(numbers))"
      ],
      "execution_count": null,
      "outputs": [
        {
          "output_type": "stream",
          "text": [
            "9\n"
          ],
          "name": "stdout"
        }
      ]
    },
    {
      "cell_type": "markdown",
      "metadata": {
        "id": "YN5R-2jSuLG5"
      },
      "source": [
        "### Workshop 2"
      ]
    },
    {
      "cell_type": "code",
      "metadata": {
        "id": "kuEn3ypovy2U",
        "colab": {
          "base_uri": "https://localhost:8080/"
        },
        "outputId": "1691d64f-f75e-4af5-b807-d972ed161df7"
      },
      "source": [
        "import random\n",
        "\n",
        "\n",
        "f = open(\"book.txt\",\"w+\") # both write and read mode \n",
        "print(f.read())\n",
        "f.close()\n",
        " \n",
        "f = open(\"book.txt\", \"a\") # append mode\n",
        "f.write(\"This is the first line in my book!\")\n",
        "f.write(\"\\nThis is the second line in my book!\")\n",
        "f.write(\"\\nThis is the third line in my book!\")\n",
        "f.write(\"\\nThis is the fourth line in my book!\")\n",
        "f.close()\n",
        " \n",
        "f = open(\"book.txt\",\"r\") # read mode\n",
        "#print(f.read())\n",
        "content = f.readlines() # list = [\"line1\",\"line2\"..]\n",
        "f.close()\n",
        " \n",
        "#content.reverse()\n",
        " \n",
        "for line in content:\n",
        "  print(line)\n",
        " \n",
        "print(\"This is the lucky line: \" + content[random.randint(0, len(content)-1)] )\n",
        " \n",
        "book = {\n",
        "  \"title\":\"\",\n",
        "  \"author\":\"\",\n",
        "  \"length\":0,\n",
        "  \"text\":[]\n",
        "}\n",
        " \n",
        "book.update({\"title\":\"My first python book.txt\"}) # book[\"title\"] =\"My first python book.txt\" \n",
        "book.update({\"author\":\"Guilherme Manteigas\"})\n",
        "book.update({\"length\": len(content)})\n",
        "book.update({\"text\":content})\n",
        " \n",
        "f = open(book.get(\"title\"), \"w\") # write mode\n",
        "for line in book.get(\"text\"):\n",
        "  f.write(line)\n",
        "f.write(\"\\n\\nNumber of lines: \" + str(book.get(\"length\")))\n",
        "f.write(\"\\nAuthor: \" + book.get(\"author\"))\n",
        "f.close()"
      ],
      "execution_count": null,
      "outputs": [
        {
          "output_type": "stream",
          "text": [
            "\n",
            "This is the first line in my book!\n",
            "\n",
            "This is the second line in my book!\n",
            "\n",
            "This is the third line in my book!\n",
            "\n",
            "This is the fourth line in my book!\n",
            "This is the lucky line: This is the fourth line in my book!\n"
          ],
          "name": "stdout"
        }
      ]
    },
    {
      "cell_type": "markdown",
      "metadata": {
        "id": "Hmx1bCcK4sAf"
      },
      "source": [
        "## What is Data Analysis?"
      ]
    },
    {
      "cell_type": "markdown",
      "metadata": {
        "id": "qyRBCtYz5CD-"
      },
      "source": [
        "* the process of inspecting, cleansing, transforming and modeling data\n",
        "* **goals:** discovering useful information and driving interesting conclusions from it\n",
        "* widely used in: marketing, sales, accounting etc.."
      ]
    },
    {
      "cell_type": "markdown",
      "metadata": {
        "id": "WxI3mF3w7uNc"
      },
      "source": [
        "## Why Python for Data Analysis?"
      ]
    },
    {
      "cell_type": "markdown",
      "metadata": {
        "id": "dvv9RS4Z74TD"
      },
      "source": [
        "* very simple and intuitive to learn\n",
        "* powerful libraries for Data Analysis (Pandas, Matplotlib, Seaborn etc..)\n",
        "* free and open source\n",
        "* much easier to maintain than other programming languages that are used for Data Analysis (R)\n",
        "  * Python: \n",
        "  ``` \n",
        "  import pandas\n",
        "nba = pandas.read_csv(\"nba_2013.csv\")\n",
        "nba.mean()\n",
        "  ```\n",
        "  * R: \n",
        "  ``` \n",
        " library(readr)\n",
        " nba <- read_csv(\"nba_2013.csv\")\n",
        " library(purrr)\n",
        " library(dplyr)\n",
        " nba %>%\n",
        "      select_if(is.numeric) %>%\n",
        "      map_dbl(mean, na.rm = TRUE)\n",
        "  ```"
      ]
    },
    {
      "cell_type": "markdown",
      "metadata": {
        "id": "NaXFdKm0YZnq"
      },
      "source": [
        "## Introduction to Pandas"
      ]
    },
    {
      "cell_type": "markdown",
      "metadata": {
        "id": "jx73eIfdZU4M"
      },
      "source": [
        "### General Information"
      ]
    },
    {
      "cell_type": "markdown",
      "metadata": {
        "id": "-NDi2ejaSgtw"
      },
      "source": [
        "* First, import the _pandas_ library so we can use it here.\n",
        "* Also add an alias _pd_ to it (this is the _as pd_ part of the code below)"
      ]
    },
    {
      "cell_type": "code",
      "metadata": {
        "id": "RChUU_HnSXfA"
      },
      "source": [
        "import pandas as pd"
      ],
      "execution_count": null,
      "outputs": []
    },
    {
      "cell_type": "markdown",
      "metadata": {
        "id": "8k1eqnT9ZA3n"
      },
      "source": [
        "### Data Frames "
      ]
    },
    {
      "cell_type": "markdown",
      "metadata": {
        "id": "eDH0kF9LZ4ys"
      },
      "source": [
        "* 2-dimensional labeled data structures with columns of potentially different types\n",
        "* mostly used for manipulating tabular data from Databases, **CSV(comma seperated values) files** or web\n",
        "* can be thought of as *dictionaries*"
      ]
    },
    {
      "cell_type": "markdown",
      "metadata": {
        "id": "3LkJ3qSjceL8"
      },
      "source": [
        "***Note***: creating a data frame manually is very tedious."
      ]
    },
    {
      "cell_type": "code",
      "metadata": {
        "id": "pGSF3PmbdCCl",
        "colab": {
          "base_uri": "https://localhost:8080/"
        },
        "outputId": "b42a7104-a115-4cc3-f361-197593c06046"
      },
      "source": [
        "df = pd.DataFrame({ # df above stands for \"DataFrame\"\n",
        "    'Name': [\n",
        "        \"Sing\",\n",
        "        \"Guardians of the Galaxy\", \n",
        "        \"Prometheus\" ,\n",
        "        \"Suicide Squad\", \n",
        "        \"Split\"\n",
        "    ],\n",
        "    'Runtime': [\n",
        "        108,\n",
        "        121,\n",
        "        124,\n",
        "        123,\n",
        "        117\n",
        "    ],\n",
        "    'Rating': [\n",
        "        7.2,\n",
        "        8.1,\n",
        "        7.0,\n",
        "        6.2,\n",
        "        7.3\n",
        "    ],\n",
        "    'Year': [\n",
        "        2016,\n",
        "        2014,\n",
        "        2012,\n",
        "        2016,\n",
        "        2016\n",
        "    ],\n",
        "    'Director': [\n",
        "        'Christophe Lourdelet',\n",
        "        'James Gunn',\n",
        "        'Ridley Scott',\n",
        "        'David Ayer',\n",
        "        'M.Night Shyamalan'\n",
        "    ]\n",
        "})\n",
        "print(df) "
      ],
      "execution_count": null,
      "outputs": [
        {
          "output_type": "stream",
          "text": [
            "                      Name  Runtime  Rating  Year              Director\n",
            "0                     Sing      108     7.2  2016  Christophe Lourdelet\n",
            "1  Guardians of the Galaxy      121     8.1  2014            James Gunn\n",
            "2               Prometheus      124     7.0  2012          Ridley Scott\n",
            "3            Suicide Squad      123     6.2  2016            David Ayer\n",
            "4                    Split      117     7.3  2016     M.Night Shyamalan\n"
          ],
          "name": "stdout"
        }
      ]
    },
    {
      "cell_type": "markdown",
      "metadata": {
        "id": "pOs3DHBKTRBa"
      },
      "source": [
        "We'll learn how to work with Data Frames by using a CSV file and importing data from it!\n",
        "\n",
        "* www.kaggle.com -  any data you want!"
      ]
    },
    {
      "cell_type": "code",
      "metadata": {
        "id": "KV3qFBozTLoI"
      },
      "source": [
        "df = pd.read_csv(\"https://github.com/daridr1000/Data-Analysis-with-Python/blob/main/IMDB-Movie-Data.csv?raw=true\")"
      ],
      "execution_count": null,
      "outputs": []
    },
    {
      "cell_type": "markdown",
      "metadata": {
        "id": "49i-QUT0iiEh"
      },
      "source": [
        "### Some basic methods"
      ]
    },
    {
      "cell_type": "code",
      "metadata": {
        "id": "6U4tdANGjG7X",
        "colab": {
          "base_uri": "https://localhost:8080/",
          "height": 1000
        },
        "outputId": "3ee53e4d-cfd9-43b7-b6b5-fceaef5a3181"
      },
      "source": [
        "df # visualise the whole table"
      ],
      "execution_count": null,
      "outputs": [
        {
          "output_type": "execute_result",
          "data": {
            "text/html": [
              "<div>\n",
              "<style scoped>\n",
              "    .dataframe tbody tr th:only-of-type {\n",
              "        vertical-align: middle;\n",
              "    }\n",
              "\n",
              "    .dataframe tbody tr th {\n",
              "        vertical-align: top;\n",
              "    }\n",
              "\n",
              "    .dataframe thead th {\n",
              "        text-align: right;\n",
              "    }\n",
              "</style>\n",
              "<table border=\"1\" class=\"dataframe\">\n",
              "  <thead>\n",
              "    <tr style=\"text-align: right;\">\n",
              "      <th></th>\n",
              "      <th>Rank</th>\n",
              "      <th>Title</th>\n",
              "      <th>Genre</th>\n",
              "      <th>Description</th>\n",
              "      <th>Director</th>\n",
              "      <th>Actors</th>\n",
              "      <th>Year</th>\n",
              "      <th>Runtime (Minutes)</th>\n",
              "      <th>Rating</th>\n",
              "      <th>Votes</th>\n",
              "      <th>Revenue (Millions)</th>\n",
              "      <th>Metascore</th>\n",
              "    </tr>\n",
              "  </thead>\n",
              "  <tbody>\n",
              "    <tr>\n",
              "      <th>0</th>\n",
              "      <td>1</td>\n",
              "      <td>Guardians of the Galaxy</td>\n",
              "      <td>Action,Adventure,Sci-Fi</td>\n",
              "      <td>A group of intergalactic criminals are forced ...</td>\n",
              "      <td>James Gunn</td>\n",
              "      <td>Chris Pratt, Vin Diesel, Bradley Cooper, Zoe S...</td>\n",
              "      <td>2014</td>\n",
              "      <td>121</td>\n",
              "      <td>8.1</td>\n",
              "      <td>757074</td>\n",
              "      <td>333.13</td>\n",
              "      <td>76.0</td>\n",
              "    </tr>\n",
              "    <tr>\n",
              "      <th>1</th>\n",
              "      <td>2</td>\n",
              "      <td>Prometheus</td>\n",
              "      <td>Adventure,Mystery,Sci-Fi</td>\n",
              "      <td>Following clues to the origin of mankind, a te...</td>\n",
              "      <td>Ridley Scott</td>\n",
              "      <td>Noomi Rapace, Logan Marshall-Green, Michael Fa...</td>\n",
              "      <td>2012</td>\n",
              "      <td>124</td>\n",
              "      <td>7.0</td>\n",
              "      <td>485820</td>\n",
              "      <td>126.46</td>\n",
              "      <td>65.0</td>\n",
              "    </tr>\n",
              "    <tr>\n",
              "      <th>2</th>\n",
              "      <td>3</td>\n",
              "      <td>Split</td>\n",
              "      <td>Horror,Thriller</td>\n",
              "      <td>Three girls are kidnapped by a man with a diag...</td>\n",
              "      <td>M. Night Shyamalan</td>\n",
              "      <td>James McAvoy, Anya Taylor-Joy, Haley Lu Richar...</td>\n",
              "      <td>2016</td>\n",
              "      <td>117</td>\n",
              "      <td>7.3</td>\n",
              "      <td>157606</td>\n",
              "      <td>138.12</td>\n",
              "      <td>62.0</td>\n",
              "    </tr>\n",
              "    <tr>\n",
              "      <th>3</th>\n",
              "      <td>4</td>\n",
              "      <td>Sing</td>\n",
              "      <td>Animation,Comedy,Family</td>\n",
              "      <td>In a city of humanoid animals, a hustling thea...</td>\n",
              "      <td>Christophe Lourdelet</td>\n",
              "      <td>Matthew McConaughey,Reese Witherspoon, Seth Ma...</td>\n",
              "      <td>2016</td>\n",
              "      <td>108</td>\n",
              "      <td>7.2</td>\n",
              "      <td>60545</td>\n",
              "      <td>270.32</td>\n",
              "      <td>59.0</td>\n",
              "    </tr>\n",
              "    <tr>\n",
              "      <th>4</th>\n",
              "      <td>5</td>\n",
              "      <td>Suicide Squad</td>\n",
              "      <td>Action,Adventure,Fantasy</td>\n",
              "      <td>A secret government agency recruits some of th...</td>\n",
              "      <td>David Ayer</td>\n",
              "      <td>Will Smith, Jared Leto, Margot Robbie, Viola D...</td>\n",
              "      <td>2016</td>\n",
              "      <td>123</td>\n",
              "      <td>6.2</td>\n",
              "      <td>393727</td>\n",
              "      <td>325.02</td>\n",
              "      <td>40.0</td>\n",
              "    </tr>\n",
              "    <tr>\n",
              "      <th>...</th>\n",
              "      <td>...</td>\n",
              "      <td>...</td>\n",
              "      <td>...</td>\n",
              "      <td>...</td>\n",
              "      <td>...</td>\n",
              "      <td>...</td>\n",
              "      <td>...</td>\n",
              "      <td>...</td>\n",
              "      <td>...</td>\n",
              "      <td>...</td>\n",
              "      <td>...</td>\n",
              "      <td>...</td>\n",
              "    </tr>\n",
              "    <tr>\n",
              "      <th>995</th>\n",
              "      <td>996</td>\n",
              "      <td>Secret in Their Eyes</td>\n",
              "      <td>Crime,Drama,Mystery</td>\n",
              "      <td>A tight-knit team of rising investigators, alo...</td>\n",
              "      <td>Billy Ray</td>\n",
              "      <td>Chiwetel Ejiofor, Nicole Kidman, Julia Roberts...</td>\n",
              "      <td>2015</td>\n",
              "      <td>111</td>\n",
              "      <td>6.2</td>\n",
              "      <td>27585</td>\n",
              "      <td>NaN</td>\n",
              "      <td>45.0</td>\n",
              "    </tr>\n",
              "    <tr>\n",
              "      <th>996</th>\n",
              "      <td>997</td>\n",
              "      <td>Hostel: Part II</td>\n",
              "      <td>Horror</td>\n",
              "      <td>Three American college students studying abroa...</td>\n",
              "      <td>Eli Roth</td>\n",
              "      <td>Lauren German, Heather Matarazzo, Bijou Philli...</td>\n",
              "      <td>2007</td>\n",
              "      <td>94</td>\n",
              "      <td>5.5</td>\n",
              "      <td>73152</td>\n",
              "      <td>17.54</td>\n",
              "      <td>46.0</td>\n",
              "    </tr>\n",
              "    <tr>\n",
              "      <th>997</th>\n",
              "      <td>998</td>\n",
              "      <td>Step Up 2: The Streets</td>\n",
              "      <td>Drama,Music,Romance</td>\n",
              "      <td>Romantic sparks occur between two dance studen...</td>\n",
              "      <td>Jon M. Chu</td>\n",
              "      <td>Robert Hoffman, Briana Evigan, Cassie Ventura,...</td>\n",
              "      <td>2008</td>\n",
              "      <td>98</td>\n",
              "      <td>6.2</td>\n",
              "      <td>70699</td>\n",
              "      <td>58.01</td>\n",
              "      <td>50.0</td>\n",
              "    </tr>\n",
              "    <tr>\n",
              "      <th>998</th>\n",
              "      <td>999</td>\n",
              "      <td>Search Party</td>\n",
              "      <td>Adventure,Comedy</td>\n",
              "      <td>A pair of friends embark on a mission to reuni...</td>\n",
              "      <td>Scot Armstrong</td>\n",
              "      <td>Adam Pally, T.J. Miller, Thomas Middleditch,Sh...</td>\n",
              "      <td>2014</td>\n",
              "      <td>93</td>\n",
              "      <td>5.6</td>\n",
              "      <td>4881</td>\n",
              "      <td>NaN</td>\n",
              "      <td>22.0</td>\n",
              "    </tr>\n",
              "    <tr>\n",
              "      <th>999</th>\n",
              "      <td>1000</td>\n",
              "      <td>Nine Lives</td>\n",
              "      <td>Comedy,Family,Fantasy</td>\n",
              "      <td>A stuffy businessman finds himself trapped ins...</td>\n",
              "      <td>Barry Sonnenfeld</td>\n",
              "      <td>Kevin Spacey, Jennifer Garner, Robbie Amell,Ch...</td>\n",
              "      <td>2016</td>\n",
              "      <td>87</td>\n",
              "      <td>5.3</td>\n",
              "      <td>12435</td>\n",
              "      <td>19.64</td>\n",
              "      <td>11.0</td>\n",
              "    </tr>\n",
              "  </tbody>\n",
              "</table>\n",
              "<p>1000 rows × 12 columns</p>\n",
              "</div>"
            ],
            "text/plain": [
              "     Rank                    Title  ... Revenue (Millions) Metascore\n",
              "0       1  Guardians of the Galaxy  ...             333.13      76.0\n",
              "1       2               Prometheus  ...             126.46      65.0\n",
              "2       3                    Split  ...             138.12      62.0\n",
              "3       4                     Sing  ...             270.32      59.0\n",
              "4       5            Suicide Squad  ...             325.02      40.0\n",
              "..    ...                      ...  ...                ...       ...\n",
              "995   996     Secret in Their Eyes  ...                NaN      45.0\n",
              "996   997          Hostel: Part II  ...              17.54      46.0\n",
              "997   998   Step Up 2: The Streets  ...              58.01      50.0\n",
              "998   999             Search Party  ...                NaN      22.0\n",
              "999  1000               Nine Lives  ...              19.64      11.0\n",
              "\n",
              "[1000 rows x 12 columns]"
            ]
          },
          "metadata": {
            "tags": []
          },
          "execution_count": 33
        }
      ]
    },
    {
      "cell_type": "code",
      "metadata": {
        "id": "NXgy0i28ULzI",
        "colab": {
          "base_uri": "https://localhost:8080/",
          "height": 462
        },
        "outputId": "476108a2-b3e5-4acf-87f1-6901bb1902ca"
      },
      "source": [
        "df.head() # gives the first 5 rows of the table"
      ],
      "execution_count": null,
      "outputs": [
        {
          "output_type": "execute_result",
          "data": {
            "text/html": [
              "<div>\n",
              "<style scoped>\n",
              "    .dataframe tbody tr th:only-of-type {\n",
              "        vertical-align: middle;\n",
              "    }\n",
              "\n",
              "    .dataframe tbody tr th {\n",
              "        vertical-align: top;\n",
              "    }\n",
              "\n",
              "    .dataframe thead th {\n",
              "        text-align: right;\n",
              "    }\n",
              "</style>\n",
              "<table border=\"1\" class=\"dataframe\">\n",
              "  <thead>\n",
              "    <tr style=\"text-align: right;\">\n",
              "      <th></th>\n",
              "      <th>Rank</th>\n",
              "      <th>Title</th>\n",
              "      <th>Genre</th>\n",
              "      <th>Description</th>\n",
              "      <th>Director</th>\n",
              "      <th>Actors</th>\n",
              "      <th>Year</th>\n",
              "      <th>Runtime (Minutes)</th>\n",
              "      <th>Rating</th>\n",
              "      <th>Votes</th>\n",
              "      <th>Revenue (Millions)</th>\n",
              "      <th>Metascore</th>\n",
              "    </tr>\n",
              "  </thead>\n",
              "  <tbody>\n",
              "    <tr>\n",
              "      <th>0</th>\n",
              "      <td>1</td>\n",
              "      <td>Guardians of the Galaxy</td>\n",
              "      <td>Action,Adventure,Sci-Fi</td>\n",
              "      <td>A group of intergalactic criminals are forced ...</td>\n",
              "      <td>James Gunn</td>\n",
              "      <td>Chris Pratt, Vin Diesel, Bradley Cooper, Zoe S...</td>\n",
              "      <td>2014</td>\n",
              "      <td>121</td>\n",
              "      <td>8.1</td>\n",
              "      <td>757074</td>\n",
              "      <td>333.13</td>\n",
              "      <td>76.0</td>\n",
              "    </tr>\n",
              "    <tr>\n",
              "      <th>1</th>\n",
              "      <td>2</td>\n",
              "      <td>Prometheus</td>\n",
              "      <td>Adventure,Mystery,Sci-Fi</td>\n",
              "      <td>Following clues to the origin of mankind, a te...</td>\n",
              "      <td>Ridley Scott</td>\n",
              "      <td>Noomi Rapace, Logan Marshall-Green, Michael Fa...</td>\n",
              "      <td>2012</td>\n",
              "      <td>124</td>\n",
              "      <td>7.0</td>\n",
              "      <td>485820</td>\n",
              "      <td>126.46</td>\n",
              "      <td>65.0</td>\n",
              "    </tr>\n",
              "    <tr>\n",
              "      <th>2</th>\n",
              "      <td>3</td>\n",
              "      <td>Split</td>\n",
              "      <td>Horror,Thriller</td>\n",
              "      <td>Three girls are kidnapped by a man with a diag...</td>\n",
              "      <td>M. Night Shyamalan</td>\n",
              "      <td>James McAvoy, Anya Taylor-Joy, Haley Lu Richar...</td>\n",
              "      <td>2016</td>\n",
              "      <td>117</td>\n",
              "      <td>7.3</td>\n",
              "      <td>157606</td>\n",
              "      <td>138.12</td>\n",
              "      <td>62.0</td>\n",
              "    </tr>\n",
              "    <tr>\n",
              "      <th>3</th>\n",
              "      <td>4</td>\n",
              "      <td>Sing</td>\n",
              "      <td>Animation,Comedy,Family</td>\n",
              "      <td>In a city of humanoid animals, a hustling thea...</td>\n",
              "      <td>Christophe Lourdelet</td>\n",
              "      <td>Matthew McConaughey,Reese Witherspoon, Seth Ma...</td>\n",
              "      <td>2016</td>\n",
              "      <td>108</td>\n",
              "      <td>7.2</td>\n",
              "      <td>60545</td>\n",
              "      <td>270.32</td>\n",
              "      <td>59.0</td>\n",
              "    </tr>\n",
              "    <tr>\n",
              "      <th>4</th>\n",
              "      <td>5</td>\n",
              "      <td>Suicide Squad</td>\n",
              "      <td>Action,Adventure,Fantasy</td>\n",
              "      <td>A secret government agency recruits some of th...</td>\n",
              "      <td>David Ayer</td>\n",
              "      <td>Will Smith, Jared Leto, Margot Robbie, Viola D...</td>\n",
              "      <td>2016</td>\n",
              "      <td>123</td>\n",
              "      <td>6.2</td>\n",
              "      <td>393727</td>\n",
              "      <td>325.02</td>\n",
              "      <td>40.0</td>\n",
              "    </tr>\n",
              "  </tbody>\n",
              "</table>\n",
              "</div>"
            ],
            "text/plain": [
              "   Rank                    Title  ... Revenue (Millions) Metascore\n",
              "0     1  Guardians of the Galaxy  ...             333.13      76.0\n",
              "1     2               Prometheus  ...             126.46      65.0\n",
              "2     3                    Split  ...             138.12      62.0\n",
              "3     4                     Sing  ...             270.32      59.0\n",
              "4     5            Suicide Squad  ...             325.02      40.0\n",
              "\n",
              "[5 rows x 12 columns]"
            ]
          },
          "metadata": {
            "tags": []
          },
          "execution_count": 34
        }
      ]
    },
    {
      "cell_type": "code",
      "metadata": {
        "id": "NKqHniFeEdVf",
        "colab": {
          "base_uri": "https://localhost:8080/",
          "height": 262
        },
        "outputId": "0acc0042-f98d-40f9-e0b4-a7248ff507af"
      },
      "source": [
        "df.tail(3) # gives the last three rows"
      ],
      "execution_count": null,
      "outputs": [
        {
          "output_type": "execute_result",
          "data": {
            "text/html": [
              "<div>\n",
              "<style scoped>\n",
              "    .dataframe tbody tr th:only-of-type {\n",
              "        vertical-align: middle;\n",
              "    }\n",
              "\n",
              "    .dataframe tbody tr th {\n",
              "        vertical-align: top;\n",
              "    }\n",
              "\n",
              "    .dataframe thead th {\n",
              "        text-align: right;\n",
              "    }\n",
              "</style>\n",
              "<table border=\"1\" class=\"dataframe\">\n",
              "  <thead>\n",
              "    <tr style=\"text-align: right;\">\n",
              "      <th></th>\n",
              "      <th>Rank</th>\n",
              "      <th>Title</th>\n",
              "      <th>Genre</th>\n",
              "      <th>Description</th>\n",
              "      <th>Director</th>\n",
              "      <th>Actors</th>\n",
              "      <th>Year</th>\n",
              "      <th>Runtime (Minutes)</th>\n",
              "      <th>Rating</th>\n",
              "      <th>Votes</th>\n",
              "      <th>Revenue (Millions)</th>\n",
              "      <th>Metascore</th>\n",
              "    </tr>\n",
              "  </thead>\n",
              "  <tbody>\n",
              "    <tr>\n",
              "      <th>997</th>\n",
              "      <td>998</td>\n",
              "      <td>Step Up 2: The Streets</td>\n",
              "      <td>Drama,Music,Romance</td>\n",
              "      <td>Romantic sparks occur between two dance studen...</td>\n",
              "      <td>Jon M. Chu</td>\n",
              "      <td>Robert Hoffman, Briana Evigan, Cassie Ventura,...</td>\n",
              "      <td>2008</td>\n",
              "      <td>98</td>\n",
              "      <td>6.2</td>\n",
              "      <td>70699</td>\n",
              "      <td>58.01</td>\n",
              "      <td>50.0</td>\n",
              "    </tr>\n",
              "    <tr>\n",
              "      <th>998</th>\n",
              "      <td>999</td>\n",
              "      <td>Search Party</td>\n",
              "      <td>Adventure,Comedy</td>\n",
              "      <td>A pair of friends embark on a mission to reuni...</td>\n",
              "      <td>Scot Armstrong</td>\n",
              "      <td>Adam Pally, T.J. Miller, Thomas Middleditch,Sh...</td>\n",
              "      <td>2014</td>\n",
              "      <td>93</td>\n",
              "      <td>5.6</td>\n",
              "      <td>4881</td>\n",
              "      <td>NaN</td>\n",
              "      <td>22.0</td>\n",
              "    </tr>\n",
              "    <tr>\n",
              "      <th>999</th>\n",
              "      <td>1000</td>\n",
              "      <td>Nine Lives</td>\n",
              "      <td>Comedy,Family,Fantasy</td>\n",
              "      <td>A stuffy businessman finds himself trapped ins...</td>\n",
              "      <td>Barry Sonnenfeld</td>\n",
              "      <td>Kevin Spacey, Jennifer Garner, Robbie Amell,Ch...</td>\n",
              "      <td>2016</td>\n",
              "      <td>87</td>\n",
              "      <td>5.3</td>\n",
              "      <td>12435</td>\n",
              "      <td>19.64</td>\n",
              "      <td>11.0</td>\n",
              "    </tr>\n",
              "  </tbody>\n",
              "</table>\n",
              "</div>"
            ],
            "text/plain": [
              "     Rank                   Title  ... Revenue (Millions) Metascore\n",
              "997   998  Step Up 2: The Streets  ...              58.01      50.0\n",
              "998   999            Search Party  ...                NaN      22.0\n",
              "999  1000              Nine Lives  ...              19.64      11.0\n",
              "\n",
              "[3 rows x 12 columns]"
            ]
          },
          "metadata": {
            "tags": []
          },
          "execution_count": 35
        }
      ]
    },
    {
      "cell_type": "code",
      "metadata": {
        "id": "iYToo7f2f_85",
        "colab": {
          "base_uri": "https://localhost:8080/"
        },
        "outputId": "d95e46b3-b47f-4bb5-c795-e62369ab00ef"
      },
      "source": [
        "df.index # shows how the table is indexed"
      ],
      "execution_count": null,
      "outputs": [
        {
          "output_type": "execute_result",
          "data": {
            "text/plain": [
              "RangeIndex(start=0, stop=1000, step=1)"
            ]
          },
          "metadata": {
            "tags": []
          },
          "execution_count": 36
        }
      ]
    },
    {
      "cell_type": "code",
      "metadata": {
        "id": "hjH_yeIJfMQp",
        "colab": {
          "base_uri": "https://localhost:8080/",
          "height": 294
        },
        "outputId": "b8a2e052-b1b2-447b-ff88-9dec781dcfd9"
      },
      "source": [
        "df.describe() # gives some statistical information about the table"
      ],
      "execution_count": null,
      "outputs": [
        {
          "output_type": "execute_result",
          "data": {
            "text/html": [
              "<div>\n",
              "<style scoped>\n",
              "    .dataframe tbody tr th:only-of-type {\n",
              "        vertical-align: middle;\n",
              "    }\n",
              "\n",
              "    .dataframe tbody tr th {\n",
              "        vertical-align: top;\n",
              "    }\n",
              "\n",
              "    .dataframe thead th {\n",
              "        text-align: right;\n",
              "    }\n",
              "</style>\n",
              "<table border=\"1\" class=\"dataframe\">\n",
              "  <thead>\n",
              "    <tr style=\"text-align: right;\">\n",
              "      <th></th>\n",
              "      <th>Rank</th>\n",
              "      <th>Year</th>\n",
              "      <th>Runtime (Minutes)</th>\n",
              "      <th>Rating</th>\n",
              "      <th>Votes</th>\n",
              "      <th>Revenue (Millions)</th>\n",
              "      <th>Metascore</th>\n",
              "    </tr>\n",
              "  </thead>\n",
              "  <tbody>\n",
              "    <tr>\n",
              "      <th>count</th>\n",
              "      <td>1000.000000</td>\n",
              "      <td>1000.000000</td>\n",
              "      <td>1000.000000</td>\n",
              "      <td>1000.000000</td>\n",
              "      <td>1.000000e+03</td>\n",
              "      <td>872.000000</td>\n",
              "      <td>936.000000</td>\n",
              "    </tr>\n",
              "    <tr>\n",
              "      <th>mean</th>\n",
              "      <td>500.500000</td>\n",
              "      <td>2012.783000</td>\n",
              "      <td>113.172000</td>\n",
              "      <td>6.723200</td>\n",
              "      <td>1.698083e+05</td>\n",
              "      <td>82.956376</td>\n",
              "      <td>58.985043</td>\n",
              "    </tr>\n",
              "    <tr>\n",
              "      <th>std</th>\n",
              "      <td>288.819436</td>\n",
              "      <td>3.205962</td>\n",
              "      <td>18.810908</td>\n",
              "      <td>0.945429</td>\n",
              "      <td>1.887626e+05</td>\n",
              "      <td>103.253540</td>\n",
              "      <td>17.194757</td>\n",
              "    </tr>\n",
              "    <tr>\n",
              "      <th>min</th>\n",
              "      <td>1.000000</td>\n",
              "      <td>2006.000000</td>\n",
              "      <td>66.000000</td>\n",
              "      <td>1.900000</td>\n",
              "      <td>6.100000e+01</td>\n",
              "      <td>0.000000</td>\n",
              "      <td>11.000000</td>\n",
              "    </tr>\n",
              "    <tr>\n",
              "      <th>25%</th>\n",
              "      <td>250.750000</td>\n",
              "      <td>2010.000000</td>\n",
              "      <td>100.000000</td>\n",
              "      <td>6.200000</td>\n",
              "      <td>3.630900e+04</td>\n",
              "      <td>13.270000</td>\n",
              "      <td>47.000000</td>\n",
              "    </tr>\n",
              "    <tr>\n",
              "      <th>50%</th>\n",
              "      <td>500.500000</td>\n",
              "      <td>2014.000000</td>\n",
              "      <td>111.000000</td>\n",
              "      <td>6.800000</td>\n",
              "      <td>1.107990e+05</td>\n",
              "      <td>47.985000</td>\n",
              "      <td>59.500000</td>\n",
              "    </tr>\n",
              "    <tr>\n",
              "      <th>75%</th>\n",
              "      <td>750.250000</td>\n",
              "      <td>2016.000000</td>\n",
              "      <td>123.000000</td>\n",
              "      <td>7.400000</td>\n",
              "      <td>2.399098e+05</td>\n",
              "      <td>113.715000</td>\n",
              "      <td>72.000000</td>\n",
              "    </tr>\n",
              "    <tr>\n",
              "      <th>max</th>\n",
              "      <td>1000.000000</td>\n",
              "      <td>2016.000000</td>\n",
              "      <td>191.000000</td>\n",
              "      <td>9.000000</td>\n",
              "      <td>1.791916e+06</td>\n",
              "      <td>936.630000</td>\n",
              "      <td>100.000000</td>\n",
              "    </tr>\n",
              "  </tbody>\n",
              "</table>\n",
              "</div>"
            ],
            "text/plain": [
              "              Rank         Year  ...  Revenue (Millions)   Metascore\n",
              "count  1000.000000  1000.000000  ...          872.000000  936.000000\n",
              "mean    500.500000  2012.783000  ...           82.956376   58.985043\n",
              "std     288.819436     3.205962  ...          103.253540   17.194757\n",
              "min       1.000000  2006.000000  ...            0.000000   11.000000\n",
              "25%     250.750000  2010.000000  ...           13.270000   47.000000\n",
              "50%     500.500000  2014.000000  ...           47.985000   59.500000\n",
              "75%     750.250000  2016.000000  ...          113.715000   72.000000\n",
              "max    1000.000000  2016.000000  ...          936.630000  100.000000\n",
              "\n",
              "[8 rows x 7 columns]"
            ]
          },
          "metadata": {
            "tags": []
          },
          "execution_count": 37
        }
      ]
    },
    {
      "cell_type": "code",
      "metadata": {
        "id": "eG5F0Gzfs0qP",
        "colab": {
          "base_uri": "https://localhost:8080/"
        },
        "outputId": "a8832115-78ab-4047-8a0b-19e01cf3c471"
      },
      "source": [
        "df.columns # gives the name of all columns and the number of columns)\n",
        "len(df.columns)"
      ],
      "execution_count": null,
      "outputs": [
        {
          "output_type": "execute_result",
          "data": {
            "text/plain": [
              "12"
            ]
          },
          "metadata": {
            "tags": []
          },
          "execution_count": 39
        }
      ]
    },
    {
      "cell_type": "code",
      "metadata": {
        "id": "VfdtweCltAJ4",
        "colab": {
          "base_uri": "https://localhost:8080/"
        },
        "outputId": "aa238e30-7240-4c69-96bd-0d73af376939"
      },
      "source": [
        "df.shape # gives the shape of the table (number of rows and number of columns)"
      ],
      "execution_count": null,
      "outputs": [
        {
          "output_type": "execute_result",
          "data": {
            "text/plain": [
              "(1000, 12)"
            ]
          },
          "metadata": {
            "tags": []
          },
          "execution_count": 40
        }
      ]
    },
    {
      "cell_type": "code",
      "metadata": {
        "id": "zXXzE8rHs3Sc",
        "colab": {
          "base_uri": "https://localhost:8080/"
        },
        "outputId": "2fa11bf5-d618-499b-ad71-06329dd8490c"
      },
      "source": [
        "df.size # gives the size of the table (how many elements the table has in total)"
      ],
      "execution_count": null,
      "outputs": [
        {
          "output_type": "execute_result",
          "data": {
            "text/plain": [
              "12000"
            ]
          },
          "metadata": {
            "tags": []
          },
          "execution_count": 41
        }
      ]
    },
    {
      "cell_type": "code",
      "metadata": {
        "id": "o0iC8ieBsHfT",
        "colab": {
          "base_uri": "https://localhost:8080/"
        },
        "outputId": "d7d1833a-159a-4a9d-c5d9-d2fbaa6495b4"
      },
      "source": [
        "df.dtypes # gives the type of the elements of each column"
      ],
      "execution_count": null,
      "outputs": [
        {
          "output_type": "execute_result",
          "data": {
            "text/plain": [
              "Rank                    int64\n",
              "Title                  object\n",
              "Genre                  object\n",
              "Description            object\n",
              "Director               object\n",
              "Actors                 object\n",
              "Year                    int64\n",
              "Runtime (Minutes)       int64\n",
              "Rating                float64\n",
              "Votes                   int64\n",
              "Revenue (Millions)    float64\n",
              "Metascore             float64\n",
              "dtype: object"
            ]
          },
          "metadata": {
            "tags": []
          },
          "execution_count": 42
        }
      ]
    },
    {
      "cell_type": "markdown",
      "metadata": {
        "id": "0EXARDoqZXzI"
      },
      "source": [
        "### Indexing, selection and slicing"
      ]
    },
    {
      "cell_type": "markdown",
      "metadata": {
        "id": "kNAOCIettg0Q"
      },
      "source": [
        "Remember that indexing starts from 0:"
      ]
    },
    {
      "cell_type": "code",
      "metadata": {
        "id": "P_ABabVXtj79",
        "colab": {
          "base_uri": "https://localhost:8080/"
        },
        "outputId": "9bd09157-84fc-47ec-d342-902bbd2b328c"
      },
      "source": [
        "df.index"
      ],
      "execution_count": null,
      "outputs": [
        {
          "output_type": "execute_result",
          "data": {
            "text/plain": [
              "RangeIndex(start=0, stop=1000, step=1)"
            ]
          },
          "metadata": {
            "tags": []
          },
          "execution_count": 43
        }
      ]
    },
    {
      "cell_type": "markdown",
      "metadata": {
        "id": "lQhKKCM-s8Cx"
      },
      "source": [
        "#### How to access all the details of any movie?"
      ]
    },
    {
      "cell_type": "markdown",
      "metadata": {
        "id": "uCZCOTBM0qQH"
      },
      "source": [
        "* *loc* works with the index(numerical in this case), which can be always reassigned"
      ]
    },
    {
      "cell_type": "code",
      "metadata": {
        "id": "MGcrNvO5rQcN",
        "colab": {
          "base_uri": "https://localhost:8080/"
        },
        "outputId": "03d3bf7e-f30c-478d-ecbf-188e186b4657"
      },
      "source": [
        "df.loc[2] # gives the details of the first movie "
      ],
      "execution_count": null,
      "outputs": [
        {
          "output_type": "execute_result",
          "data": {
            "text/plain": [
              "Rank                                                                  3\n",
              "Title                                                             Split\n",
              "Genre                                                   Horror,Thriller\n",
              "Description           Three girls are kidnapped by a man with a diag...\n",
              "Director                                             M. Night Shyamalan\n",
              "Actors                James McAvoy, Anya Taylor-Joy, Haley Lu Richar...\n",
              "Year                                                               2016\n",
              "Runtime (Minutes)                                                   117\n",
              "Rating                                                              7.3\n",
              "Votes                                                            157606\n",
              "Revenue (Millions)                                               138.12\n",
              "Metascore                                                            62\n",
              "Name: 2, dtype: object"
            ]
          },
          "metadata": {
            "tags": []
          },
          "execution_count": 46
        }
      ]
    },
    {
      "cell_type": "markdown",
      "metadata": {
        "id": "t62hq8Nu0G6o"
      },
      "source": [
        "* *iloc* works with the numerical position of the index "
      ]
    },
    {
      "cell_type": "code",
      "metadata": {
        "id": "x972JXFEvR9g",
        "colab": {
          "base_uri": "https://localhost:8080/"
        },
        "outputId": "93f6143d-ceab-479e-9ca0-d2ed98b73415"
      },
      "source": [
        "df.iloc[-2] # gives the details of the last movie "
      ],
      "execution_count": null,
      "outputs": [
        {
          "output_type": "execute_result",
          "data": {
            "text/plain": [
              "Rank                                                                999\n",
              "Title                                                      Search Party\n",
              "Genre                                                  Adventure,Comedy\n",
              "Description           A pair of friends embark on a mission to reuni...\n",
              "Director                                                 Scot Armstrong\n",
              "Actors                Adam Pally, T.J. Miller, Thomas Middleditch,Sh...\n",
              "Year                                                               2014\n",
              "Runtime (Minutes)                                                    93\n",
              "Rating                                                              5.6\n",
              "Votes                                                              4881\n",
              "Revenue (Millions)                                                  NaN\n",
              "Metascore                                                            22\n",
              "Name: 998, dtype: object"
            ]
          },
          "metadata": {
            "tags": []
          },
          "execution_count": 48
        }
      ]
    },
    {
      "cell_type": "markdown",
      "metadata": {
        "id": "NDBAbZfKtFEo"
      },
      "source": [
        "#### What if I want the full description of a movie?"
      ]
    },
    {
      "cell_type": "code",
      "metadata": {
        "id": "TK59h-EpsFEM",
        "colab": {
          "base_uri": "https://localhost:8080/",
          "height": 35
        },
        "outputId": "62787250-3273-41ee-f7b3-dd9517e67bcf"
      },
      "source": [
        "df.iloc[0][\"Description\"] # gives the description of the first movie"
      ],
      "execution_count": null,
      "outputs": [
        {
          "output_type": "execute_result",
          "data": {
            "application/vnd.google.colaboratory.intrinsic+json": {
              "type": "string"
            },
            "text/plain": [
              "'A group of intergalactic criminals are forced to work together to stop a fanatical warrior from taking control of the universe.'"
            ]
          },
          "metadata": {
            "tags": []
          },
          "execution_count": 49
        }
      ]
    },
    {
      "cell_type": "code",
      "metadata": {
        "id": "jSTu-XTavkJ_",
        "colab": {
          "base_uri": "https://localhost:8080/",
          "height": 35
        },
        "outputId": "2dcdce5b-c692-4214-be6d-5a1d75e1c5f8"
      },
      "source": [
        "df.iloc[-1][\"Description\"] # gives the description of the last movie"
      ],
      "execution_count": null,
      "outputs": [
        {
          "output_type": "execute_result",
          "data": {
            "application/vnd.google.colaboratory.intrinsic+json": {
              "type": "string"
            },
            "text/plain": [
              "\"A stuffy businessman finds himself trapped inside the body of his family's cat.\""
            ]
          },
          "metadata": {
            "tags": []
          },
          "execution_count": 50
        }
      ]
    },
    {
      "cell_type": "markdown",
      "metadata": {
        "id": "K_4qXUKCuI9F"
      },
      "source": [
        "#### Accessing one or more columns of the table:"
      ]
    },
    {
      "cell_type": "code",
      "metadata": {
        "id": "GKJFrqsHsl29",
        "colab": {
          "base_uri": "https://localhost:8080/",
          "height": 415
        },
        "outputId": "5a33ba3e-2562-40a6-fe31-f3ed9988590b"
      },
      "source": [
        "df[\"Year\"] # gives the Year column \n",
        "df[[\"Year\"]]"
      ],
      "execution_count": null,
      "outputs": [
        {
          "output_type": "execute_result",
          "data": {
            "text/html": [
              "<div>\n",
              "<style scoped>\n",
              "    .dataframe tbody tr th:only-of-type {\n",
              "        vertical-align: middle;\n",
              "    }\n",
              "\n",
              "    .dataframe tbody tr th {\n",
              "        vertical-align: top;\n",
              "    }\n",
              "\n",
              "    .dataframe thead th {\n",
              "        text-align: right;\n",
              "    }\n",
              "</style>\n",
              "<table border=\"1\" class=\"dataframe\">\n",
              "  <thead>\n",
              "    <tr style=\"text-align: right;\">\n",
              "      <th></th>\n",
              "      <th>Year</th>\n",
              "    </tr>\n",
              "  </thead>\n",
              "  <tbody>\n",
              "    <tr>\n",
              "      <th>0</th>\n",
              "      <td>2014</td>\n",
              "    </tr>\n",
              "    <tr>\n",
              "      <th>1</th>\n",
              "      <td>2012</td>\n",
              "    </tr>\n",
              "    <tr>\n",
              "      <th>2</th>\n",
              "      <td>2016</td>\n",
              "    </tr>\n",
              "    <tr>\n",
              "      <th>3</th>\n",
              "      <td>2016</td>\n",
              "    </tr>\n",
              "    <tr>\n",
              "      <th>4</th>\n",
              "      <td>2016</td>\n",
              "    </tr>\n",
              "    <tr>\n",
              "      <th>...</th>\n",
              "      <td>...</td>\n",
              "    </tr>\n",
              "    <tr>\n",
              "      <th>995</th>\n",
              "      <td>2015</td>\n",
              "    </tr>\n",
              "    <tr>\n",
              "      <th>996</th>\n",
              "      <td>2007</td>\n",
              "    </tr>\n",
              "    <tr>\n",
              "      <th>997</th>\n",
              "      <td>2008</td>\n",
              "    </tr>\n",
              "    <tr>\n",
              "      <th>998</th>\n",
              "      <td>2014</td>\n",
              "    </tr>\n",
              "    <tr>\n",
              "      <th>999</th>\n",
              "      <td>2016</td>\n",
              "    </tr>\n",
              "  </tbody>\n",
              "</table>\n",
              "<p>1000 rows × 1 columns</p>\n",
              "</div>"
            ],
            "text/plain": [
              "     Year\n",
              "0    2014\n",
              "1    2012\n",
              "2    2016\n",
              "3    2016\n",
              "4    2016\n",
              "..    ...\n",
              "995  2015\n",
              "996  2007\n",
              "997  2008\n",
              "998  2014\n",
              "999  2016\n",
              "\n",
              "[1000 rows x 1 columns]"
            ]
          },
          "metadata": {
            "tags": []
          },
          "execution_count": 52
        }
      ]
    },
    {
      "cell_type": "code",
      "metadata": {
        "id": "ZoV7NsWftvpF",
        "colab": {
          "base_uri": "https://localhost:8080/",
          "height": 415
        },
        "outputId": "9a14ac17-c3b3-424a-b51c-e3cf085bddb0"
      },
      "source": [
        "df[[\"Title\",\"Year\"]] # gives the Title and Year columns"
      ],
      "execution_count": null,
      "outputs": [
        {
          "output_type": "execute_result",
          "data": {
            "text/html": [
              "<div>\n",
              "<style scoped>\n",
              "    .dataframe tbody tr th:only-of-type {\n",
              "        vertical-align: middle;\n",
              "    }\n",
              "\n",
              "    .dataframe tbody tr th {\n",
              "        vertical-align: top;\n",
              "    }\n",
              "\n",
              "    .dataframe thead th {\n",
              "        text-align: right;\n",
              "    }\n",
              "</style>\n",
              "<table border=\"1\" class=\"dataframe\">\n",
              "  <thead>\n",
              "    <tr style=\"text-align: right;\">\n",
              "      <th></th>\n",
              "      <th>Title</th>\n",
              "      <th>Year</th>\n",
              "    </tr>\n",
              "  </thead>\n",
              "  <tbody>\n",
              "    <tr>\n",
              "      <th>0</th>\n",
              "      <td>Guardians of the Galaxy</td>\n",
              "      <td>2014</td>\n",
              "    </tr>\n",
              "    <tr>\n",
              "      <th>1</th>\n",
              "      <td>Prometheus</td>\n",
              "      <td>2012</td>\n",
              "    </tr>\n",
              "    <tr>\n",
              "      <th>2</th>\n",
              "      <td>Split</td>\n",
              "      <td>2016</td>\n",
              "    </tr>\n",
              "    <tr>\n",
              "      <th>3</th>\n",
              "      <td>Sing</td>\n",
              "      <td>2016</td>\n",
              "    </tr>\n",
              "    <tr>\n",
              "      <th>4</th>\n",
              "      <td>Suicide Squad</td>\n",
              "      <td>2016</td>\n",
              "    </tr>\n",
              "    <tr>\n",
              "      <th>...</th>\n",
              "      <td>...</td>\n",
              "      <td>...</td>\n",
              "    </tr>\n",
              "    <tr>\n",
              "      <th>995</th>\n",
              "      <td>Secret in Their Eyes</td>\n",
              "      <td>2015</td>\n",
              "    </tr>\n",
              "    <tr>\n",
              "      <th>996</th>\n",
              "      <td>Hostel: Part II</td>\n",
              "      <td>2007</td>\n",
              "    </tr>\n",
              "    <tr>\n",
              "      <th>997</th>\n",
              "      <td>Step Up 2: The Streets</td>\n",
              "      <td>2008</td>\n",
              "    </tr>\n",
              "    <tr>\n",
              "      <th>998</th>\n",
              "      <td>Search Party</td>\n",
              "      <td>2014</td>\n",
              "    </tr>\n",
              "    <tr>\n",
              "      <th>999</th>\n",
              "      <td>Nine Lives</td>\n",
              "      <td>2016</td>\n",
              "    </tr>\n",
              "  </tbody>\n",
              "</table>\n",
              "<p>1000 rows × 2 columns</p>\n",
              "</div>"
            ],
            "text/plain": [
              "                       Title  Year\n",
              "0    Guardians of the Galaxy  2014\n",
              "1                 Prometheus  2012\n",
              "2                      Split  2016\n",
              "3                       Sing  2016\n",
              "4              Suicide Squad  2016\n",
              "..                       ...   ...\n",
              "995     Secret in Their Eyes  2015\n",
              "996          Hostel: Part II  2007\n",
              "997   Step Up 2: The Streets  2008\n",
              "998             Search Party  2014\n",
              "999               Nine Lives  2016\n",
              "\n",
              "[1000 rows x 2 columns]"
            ]
          },
          "metadata": {
            "tags": []
          },
          "execution_count": 53
        }
      ]
    },
    {
      "cell_type": "code",
      "metadata": {
        "id": "uyFr0pS4v5fD",
        "colab": {
          "base_uri": "https://localhost:8080/"
        },
        "outputId": "3b8213dd-fd29-4013-cf5c-80b616204a1d"
      },
      "source": [
        "df.loc[4][[\"Title\",\"Rating\",\"Year\"]] # gives the title, rating and year of the 5th movie"
      ],
      "execution_count": null,
      "outputs": [
        {
          "output_type": "execute_result",
          "data": {
            "text/plain": [
              "Title     Suicide Squad\n",
              "Rating              6.2\n",
              "Year               2016\n",
              "Name: 4, dtype: object"
            ]
          },
          "metadata": {
            "tags": []
          },
          "execution_count": 54
        }
      ]
    },
    {
      "cell_type": "markdown",
      "metadata": {
        "id": "3maLCJtKw8FO"
      },
      "source": [
        "#### Selecting more movies from the table:"
      ]
    },
    {
      "cell_type": "code",
      "metadata": {
        "id": "bMARhiFuyP80",
        "colab": {
          "base_uri": "https://localhost:8080/",
          "height": 379
        },
        "outputId": "91ba39cc-9bd0-4037-e4c3-b70cea430250"
      },
      "source": [
        "df.loc[0:3] # selects rows matching the given index\n",
        "df.loc[:3]\n",
        "df.loc[1:3]\n",
        "df.loc[0:3]"
      ],
      "execution_count": null,
      "outputs": [
        {
          "output_type": "execute_result",
          "data": {
            "text/html": [
              "<div>\n",
              "<style scoped>\n",
              "    .dataframe tbody tr th:only-of-type {\n",
              "        vertical-align: middle;\n",
              "    }\n",
              "\n",
              "    .dataframe tbody tr th {\n",
              "        vertical-align: top;\n",
              "    }\n",
              "\n",
              "    .dataframe thead th {\n",
              "        text-align: right;\n",
              "    }\n",
              "</style>\n",
              "<table border=\"1\" class=\"dataframe\">\n",
              "  <thead>\n",
              "    <tr style=\"text-align: right;\">\n",
              "      <th></th>\n",
              "      <th>Rank</th>\n",
              "      <th>Title</th>\n",
              "      <th>Genre</th>\n",
              "      <th>Description</th>\n",
              "      <th>Director</th>\n",
              "      <th>Actors</th>\n",
              "      <th>Year</th>\n",
              "      <th>Runtime (Minutes)</th>\n",
              "      <th>Rating</th>\n",
              "      <th>Votes</th>\n",
              "      <th>Revenue (Millions)</th>\n",
              "      <th>Metascore</th>\n",
              "    </tr>\n",
              "  </thead>\n",
              "  <tbody>\n",
              "    <tr>\n",
              "      <th>0</th>\n",
              "      <td>1</td>\n",
              "      <td>Guardians of the Galaxy</td>\n",
              "      <td>Action,Adventure,Sci-Fi</td>\n",
              "      <td>A group of intergalactic criminals are forced ...</td>\n",
              "      <td>James Gunn</td>\n",
              "      <td>Chris Pratt, Vin Diesel, Bradley Cooper, Zoe S...</td>\n",
              "      <td>2014</td>\n",
              "      <td>121</td>\n",
              "      <td>8.1</td>\n",
              "      <td>757074</td>\n",
              "      <td>333.13</td>\n",
              "      <td>76.0</td>\n",
              "    </tr>\n",
              "    <tr>\n",
              "      <th>1</th>\n",
              "      <td>2</td>\n",
              "      <td>Prometheus</td>\n",
              "      <td>Adventure,Mystery,Sci-Fi</td>\n",
              "      <td>Following clues to the origin of mankind, a te...</td>\n",
              "      <td>Ridley Scott</td>\n",
              "      <td>Noomi Rapace, Logan Marshall-Green, Michael Fa...</td>\n",
              "      <td>2012</td>\n",
              "      <td>124</td>\n",
              "      <td>7.0</td>\n",
              "      <td>485820</td>\n",
              "      <td>126.46</td>\n",
              "      <td>65.0</td>\n",
              "    </tr>\n",
              "    <tr>\n",
              "      <th>2</th>\n",
              "      <td>3</td>\n",
              "      <td>Split</td>\n",
              "      <td>Horror,Thriller</td>\n",
              "      <td>Three girls are kidnapped by a man with a diag...</td>\n",
              "      <td>M. Night Shyamalan</td>\n",
              "      <td>James McAvoy, Anya Taylor-Joy, Haley Lu Richar...</td>\n",
              "      <td>2016</td>\n",
              "      <td>117</td>\n",
              "      <td>7.3</td>\n",
              "      <td>157606</td>\n",
              "      <td>138.12</td>\n",
              "      <td>62.0</td>\n",
              "    </tr>\n",
              "    <tr>\n",
              "      <th>3</th>\n",
              "      <td>4</td>\n",
              "      <td>Sing</td>\n",
              "      <td>Animation,Comedy,Family</td>\n",
              "      <td>In a city of humanoid animals, a hustling thea...</td>\n",
              "      <td>Christophe Lourdelet</td>\n",
              "      <td>Matthew McConaughey,Reese Witherspoon, Seth Ma...</td>\n",
              "      <td>2016</td>\n",
              "      <td>108</td>\n",
              "      <td>7.2</td>\n",
              "      <td>60545</td>\n",
              "      <td>270.32</td>\n",
              "      <td>59.0</td>\n",
              "    </tr>\n",
              "  </tbody>\n",
              "</table>\n",
              "</div>"
            ],
            "text/plain": [
              "   Rank                    Title  ... Revenue (Millions) Metascore\n",
              "0     1  Guardians of the Galaxy  ...             333.13      76.0\n",
              "1     2               Prometheus  ...             126.46      65.0\n",
              "2     3                    Split  ...             138.12      62.0\n",
              "3     4                     Sing  ...             270.32      59.0\n",
              "\n",
              "[4 rows x 12 columns]"
            ]
          },
          "metadata": {
            "tags": []
          },
          "execution_count": 58
        }
      ]
    },
    {
      "cell_type": "code",
      "metadata": {
        "id": "gKr-a8axza0V",
        "colab": {
          "base_uri": "https://localhost:8080/",
          "height": 141
        },
        "outputId": "9ea87d27-b182-4537-f353-82dd178201d2"
      },
      "source": [
        "df.loc[0:3,\"Title\"] # gives only the titles of the movies\n",
        "df.loc[0:3,[\"Title\",\"Rating\"]]\n",
        "df.iloc[0:3,0:3]"
      ],
      "execution_count": null,
      "outputs": [
        {
          "output_type": "execute_result",
          "data": {
            "text/html": [
              "<div>\n",
              "<style scoped>\n",
              "    .dataframe tbody tr th:only-of-type {\n",
              "        vertical-align: middle;\n",
              "    }\n",
              "\n",
              "    .dataframe tbody tr th {\n",
              "        vertical-align: top;\n",
              "    }\n",
              "\n",
              "    .dataframe thead th {\n",
              "        text-align: right;\n",
              "    }\n",
              "</style>\n",
              "<table border=\"1\" class=\"dataframe\">\n",
              "  <thead>\n",
              "    <tr style=\"text-align: right;\">\n",
              "      <th></th>\n",
              "      <th>Rank</th>\n",
              "      <th>Title</th>\n",
              "      <th>Genre</th>\n",
              "    </tr>\n",
              "  </thead>\n",
              "  <tbody>\n",
              "    <tr>\n",
              "      <th>0</th>\n",
              "      <td>1</td>\n",
              "      <td>Guardians of the Galaxy</td>\n",
              "      <td>Action,Adventure,Sci-Fi</td>\n",
              "    </tr>\n",
              "    <tr>\n",
              "      <th>1</th>\n",
              "      <td>2</td>\n",
              "      <td>Prometheus</td>\n",
              "      <td>Adventure,Mystery,Sci-Fi</td>\n",
              "    </tr>\n",
              "    <tr>\n",
              "      <th>2</th>\n",
              "      <td>3</td>\n",
              "      <td>Split</td>\n",
              "      <td>Horror,Thriller</td>\n",
              "    </tr>\n",
              "  </tbody>\n",
              "</table>\n",
              "</div>"
            ],
            "text/plain": [
              "   Rank                    Title                     Genre\n",
              "0     1  Guardians of the Galaxy   Action,Adventure,Sci-Fi\n",
              "1     2               Prometheus  Adventure,Mystery,Sci-Fi\n",
              "2     3                    Split           Horror,Thriller"
            ]
          },
          "metadata": {
            "tags": []
          },
          "execution_count": 61
        }
      ]
    },
    {
      "cell_type": "markdown",
      "metadata": {
        "id": "VX1BchelExT9"
      },
      "source": [
        "#### Changing the index:"
      ]
    },
    {
      "cell_type": "code",
      "metadata": {
        "id": "m4ZthYK0JLhs",
        "colab": {
          "base_uri": "https://localhost:8080/",
          "height": 493
        },
        "outputId": "4c84a4ba-a933-4646-8e35-84792005f87b"
      },
      "source": [
        "df.set_index(\"Title\",inplace = True) # sets the index to column Title and modified the data frame in place \n",
        "df.head()"
      ],
      "execution_count": null,
      "outputs": [
        {
          "output_type": "execute_result",
          "data": {
            "text/html": [
              "<div>\n",
              "<style scoped>\n",
              "    .dataframe tbody tr th:only-of-type {\n",
              "        vertical-align: middle;\n",
              "    }\n",
              "\n",
              "    .dataframe tbody tr th {\n",
              "        vertical-align: top;\n",
              "    }\n",
              "\n",
              "    .dataframe thead th {\n",
              "        text-align: right;\n",
              "    }\n",
              "</style>\n",
              "<table border=\"1\" class=\"dataframe\">\n",
              "  <thead>\n",
              "    <tr style=\"text-align: right;\">\n",
              "      <th></th>\n",
              "      <th>Rank</th>\n",
              "      <th>Genre</th>\n",
              "      <th>Description</th>\n",
              "      <th>Director</th>\n",
              "      <th>Actors</th>\n",
              "      <th>Year</th>\n",
              "      <th>Runtime (Minutes)</th>\n",
              "      <th>Rating</th>\n",
              "      <th>Votes</th>\n",
              "      <th>Revenue (Millions)</th>\n",
              "      <th>Metascore</th>\n",
              "    </tr>\n",
              "    <tr>\n",
              "      <th>Title</th>\n",
              "      <th></th>\n",
              "      <th></th>\n",
              "      <th></th>\n",
              "      <th></th>\n",
              "      <th></th>\n",
              "      <th></th>\n",
              "      <th></th>\n",
              "      <th></th>\n",
              "      <th></th>\n",
              "      <th></th>\n",
              "      <th></th>\n",
              "    </tr>\n",
              "  </thead>\n",
              "  <tbody>\n",
              "    <tr>\n",
              "      <th>Guardians of the Galaxy</th>\n",
              "      <td>1</td>\n",
              "      <td>Action,Adventure,Sci-Fi</td>\n",
              "      <td>A group of intergalactic criminals are forced ...</td>\n",
              "      <td>James Gunn</td>\n",
              "      <td>Chris Pratt, Vin Diesel, Bradley Cooper, Zoe S...</td>\n",
              "      <td>2014</td>\n",
              "      <td>121</td>\n",
              "      <td>8.1</td>\n",
              "      <td>757074</td>\n",
              "      <td>333.13</td>\n",
              "      <td>76.0</td>\n",
              "    </tr>\n",
              "    <tr>\n",
              "      <th>Prometheus</th>\n",
              "      <td>2</td>\n",
              "      <td>Adventure,Mystery,Sci-Fi</td>\n",
              "      <td>Following clues to the origin of mankind, a te...</td>\n",
              "      <td>Ridley Scott</td>\n",
              "      <td>Noomi Rapace, Logan Marshall-Green, Michael Fa...</td>\n",
              "      <td>2012</td>\n",
              "      <td>124</td>\n",
              "      <td>7.0</td>\n",
              "      <td>485820</td>\n",
              "      <td>126.46</td>\n",
              "      <td>65.0</td>\n",
              "    </tr>\n",
              "    <tr>\n",
              "      <th>Split</th>\n",
              "      <td>3</td>\n",
              "      <td>Horror,Thriller</td>\n",
              "      <td>Three girls are kidnapped by a man with a diag...</td>\n",
              "      <td>M. Night Shyamalan</td>\n",
              "      <td>James McAvoy, Anya Taylor-Joy, Haley Lu Richar...</td>\n",
              "      <td>2016</td>\n",
              "      <td>117</td>\n",
              "      <td>7.3</td>\n",
              "      <td>157606</td>\n",
              "      <td>138.12</td>\n",
              "      <td>62.0</td>\n",
              "    </tr>\n",
              "    <tr>\n",
              "      <th>Sing</th>\n",
              "      <td>4</td>\n",
              "      <td>Animation,Comedy,Family</td>\n",
              "      <td>In a city of humanoid animals, a hustling thea...</td>\n",
              "      <td>Christophe Lourdelet</td>\n",
              "      <td>Matthew McConaughey,Reese Witherspoon, Seth Ma...</td>\n",
              "      <td>2016</td>\n",
              "      <td>108</td>\n",
              "      <td>7.2</td>\n",
              "      <td>60545</td>\n",
              "      <td>270.32</td>\n",
              "      <td>59.0</td>\n",
              "    </tr>\n",
              "    <tr>\n",
              "      <th>Suicide Squad</th>\n",
              "      <td>5</td>\n",
              "      <td>Action,Adventure,Fantasy</td>\n",
              "      <td>A secret government agency recruits some of th...</td>\n",
              "      <td>David Ayer</td>\n",
              "      <td>Will Smith, Jared Leto, Margot Robbie, Viola D...</td>\n",
              "      <td>2016</td>\n",
              "      <td>123</td>\n",
              "      <td>6.2</td>\n",
              "      <td>393727</td>\n",
              "      <td>325.02</td>\n",
              "      <td>40.0</td>\n",
              "    </tr>\n",
              "  </tbody>\n",
              "</table>\n",
              "</div>"
            ],
            "text/plain": [
              "                         Rank  ... Metascore\n",
              "Title                          ...          \n",
              "Guardians of the Galaxy     1  ...      76.0\n",
              "Prometheus                  2  ...      65.0\n",
              "Split                       3  ...      62.0\n",
              "Sing                        4  ...      59.0\n",
              "Suicide Squad               5  ...      40.0\n",
              "\n",
              "[5 rows x 11 columns]"
            ]
          },
          "metadata": {
            "tags": []
          },
          "execution_count": 62
        }
      ]
    },
    {
      "cell_type": "markdown",
      "metadata": {
        "id": "eOOaz5B6NNck"
      },
      "source": [
        "Let's see what the index is now!"
      ]
    },
    {
      "cell_type": "code",
      "metadata": {
        "id": "K-TAf6LoNHyB",
        "colab": {
          "base_uri": "https://localhost:8080/"
        },
        "outputId": "ac72094b-8aca-4bc7-f548-fad663d8ed86"
      },
      "source": [
        "df.index"
      ],
      "execution_count": null,
      "outputs": [
        {
          "output_type": "execute_result",
          "data": {
            "text/plain": [
              "Index(['Guardians of the Galaxy', 'Prometheus', 'Split', 'Sing',\n",
              "       'Suicide Squad', 'The Great Wall', 'La La Land', 'Mindhorn',\n",
              "       'The Lost City of Z', 'Passengers',\n",
              "       ...\n",
              "       'Underworld: Rise of the Lycans', 'Taare Zameen Par',\n",
              "       'Take Me Home Tonight', 'Resident Evil: Afterlife', 'Project X',\n",
              "       'Secret in Their Eyes', 'Hostel: Part II', 'Step Up 2: The Streets',\n",
              "       'Search Party', 'Nine Lives'],\n",
              "      dtype='object', name='Title', length=1000)"
            ]
          },
          "metadata": {
            "tags": []
          },
          "execution_count": 63
        }
      ]
    },
    {
      "cell_type": "markdown",
      "metadata": {
        "id": "V7hRpyHWGXXE"
      },
      "source": [
        "Now, we can access the rows of the table by *Title*:"
      ]
    },
    {
      "cell_type": "code",
      "metadata": {
        "id": "_ym2qfauGe1s",
        "colab": {
          "base_uri": "https://localhost:8080/",
          "height": 410
        },
        "outputId": "b0c9350a-333d-413d-95dc-63ba876ccfbf"
      },
      "source": [
        "df.loc[\"Guardians of the Galaxy\"]\n",
        "df.loc[\"Guardians of the Galaxy\" : \"Sing\"]"
      ],
      "execution_count": null,
      "outputs": [
        {
          "output_type": "execute_result",
          "data": {
            "text/html": [
              "<div>\n",
              "<style scoped>\n",
              "    .dataframe tbody tr th:only-of-type {\n",
              "        vertical-align: middle;\n",
              "    }\n",
              "\n",
              "    .dataframe tbody tr th {\n",
              "        vertical-align: top;\n",
              "    }\n",
              "\n",
              "    .dataframe thead th {\n",
              "        text-align: right;\n",
              "    }\n",
              "</style>\n",
              "<table border=\"1\" class=\"dataframe\">\n",
              "  <thead>\n",
              "    <tr style=\"text-align: right;\">\n",
              "      <th></th>\n",
              "      <th>Rank</th>\n",
              "      <th>Genre</th>\n",
              "      <th>Description</th>\n",
              "      <th>Director</th>\n",
              "      <th>Actors</th>\n",
              "      <th>Year</th>\n",
              "      <th>Runtime (Minutes)</th>\n",
              "      <th>Rating</th>\n",
              "      <th>Votes</th>\n",
              "      <th>Revenue (Millions)</th>\n",
              "      <th>Metascore</th>\n",
              "    </tr>\n",
              "    <tr>\n",
              "      <th>Title</th>\n",
              "      <th></th>\n",
              "      <th></th>\n",
              "      <th></th>\n",
              "      <th></th>\n",
              "      <th></th>\n",
              "      <th></th>\n",
              "      <th></th>\n",
              "      <th></th>\n",
              "      <th></th>\n",
              "      <th></th>\n",
              "      <th></th>\n",
              "    </tr>\n",
              "  </thead>\n",
              "  <tbody>\n",
              "    <tr>\n",
              "      <th>Guardians of the Galaxy</th>\n",
              "      <td>1</td>\n",
              "      <td>Action,Adventure,Sci-Fi</td>\n",
              "      <td>A group of intergalactic criminals are forced ...</td>\n",
              "      <td>James Gunn</td>\n",
              "      <td>Chris Pratt, Vin Diesel, Bradley Cooper, Zoe S...</td>\n",
              "      <td>2014</td>\n",
              "      <td>121</td>\n",
              "      <td>8.1</td>\n",
              "      <td>757074</td>\n",
              "      <td>333.13</td>\n",
              "      <td>76.0</td>\n",
              "    </tr>\n",
              "    <tr>\n",
              "      <th>Prometheus</th>\n",
              "      <td>2</td>\n",
              "      <td>Adventure,Mystery,Sci-Fi</td>\n",
              "      <td>Following clues to the origin of mankind, a te...</td>\n",
              "      <td>Ridley Scott</td>\n",
              "      <td>Noomi Rapace, Logan Marshall-Green, Michael Fa...</td>\n",
              "      <td>2012</td>\n",
              "      <td>124</td>\n",
              "      <td>7.0</td>\n",
              "      <td>485820</td>\n",
              "      <td>126.46</td>\n",
              "      <td>65.0</td>\n",
              "    </tr>\n",
              "    <tr>\n",
              "      <th>Split</th>\n",
              "      <td>3</td>\n",
              "      <td>Horror,Thriller</td>\n",
              "      <td>Three girls are kidnapped by a man with a diag...</td>\n",
              "      <td>M. Night Shyamalan</td>\n",
              "      <td>James McAvoy, Anya Taylor-Joy, Haley Lu Richar...</td>\n",
              "      <td>2016</td>\n",
              "      <td>117</td>\n",
              "      <td>7.3</td>\n",
              "      <td>157606</td>\n",
              "      <td>138.12</td>\n",
              "      <td>62.0</td>\n",
              "    </tr>\n",
              "    <tr>\n",
              "      <th>Sing</th>\n",
              "      <td>4</td>\n",
              "      <td>Animation,Comedy,Family</td>\n",
              "      <td>In a city of humanoid animals, a hustling thea...</td>\n",
              "      <td>Christophe Lourdelet</td>\n",
              "      <td>Matthew McConaughey,Reese Witherspoon, Seth Ma...</td>\n",
              "      <td>2016</td>\n",
              "      <td>108</td>\n",
              "      <td>7.2</td>\n",
              "      <td>60545</td>\n",
              "      <td>270.32</td>\n",
              "      <td>59.0</td>\n",
              "    </tr>\n",
              "  </tbody>\n",
              "</table>\n",
              "</div>"
            ],
            "text/plain": [
              "                         Rank  ... Metascore\n",
              "Title                          ...          \n",
              "Guardians of the Galaxy     1  ...      76.0\n",
              "Prometheus                  2  ...      65.0\n",
              "Split                       3  ...      62.0\n",
              "Sing                        4  ...      59.0\n",
              "\n",
              "[4 rows x 11 columns]"
            ]
          },
          "metadata": {
            "tags": []
          },
          "execution_count": 65
        }
      ]
    },
    {
      "cell_type": "markdown",
      "metadata": {
        "id": "bGSe5nsZFwNu"
      },
      "source": [
        "**Don't forget to import the table again in order to restore the index to its initial value!**\n",
        "\n"
      ]
    },
    {
      "cell_type": "code",
      "metadata": {
        "id": "rRTQ5-u9F-WU"
      },
      "source": [
        "df = pd.read_csv(\"https://github.com/daridr1000/Data-Analysis-with-Python/blob/main/IMDB-Movie-Data.csv?raw=true\")"
      ],
      "execution_count": null,
      "outputs": []
    },
    {
      "cell_type": "markdown",
      "metadata": {
        "id": "1g-3S0wp3808"
      },
      "source": [
        "#### Conditional selection: what are the movies released before 2011?"
      ]
    },
    {
      "cell_type": "code",
      "metadata": {
        "id": "0ofIMT8L4Lyn",
        "colab": {
          "base_uri": "https://localhost:8080/",
          "height": 415
        },
        "outputId": "039475a6-9bf2-4493-fa32-bffdd7a5542c"
      },
      "source": [
        "df[\"Year\"] < 2011\n",
        "df.loc[df[\"Year\"] < 2011] \n",
        "df.loc[df[\"Year\"] < 2011,[\"Title\"]] # adding the Title column"
      ],
      "execution_count": null,
      "outputs": [
        {
          "output_type": "execute_result",
          "data": {
            "text/html": [
              "<div>\n",
              "<style scoped>\n",
              "    .dataframe tbody tr th:only-of-type {\n",
              "        vertical-align: middle;\n",
              "    }\n",
              "\n",
              "    .dataframe tbody tr th {\n",
              "        vertical-align: top;\n",
              "    }\n",
              "\n",
              "    .dataframe thead th {\n",
              "        text-align: right;\n",
              "    }\n",
              "</style>\n",
              "<table border=\"1\" class=\"dataframe\">\n",
              "  <thead>\n",
              "    <tr style=\"text-align: right;\">\n",
              "      <th></th>\n",
              "      <th>Title</th>\n",
              "    </tr>\n",
              "  </thead>\n",
              "  <tbody>\n",
              "    <tr>\n",
              "      <th>39</th>\n",
              "      <td>5- 25- 77</td>\n",
              "    </tr>\n",
              "    <tr>\n",
              "      <th>54</th>\n",
              "      <td>The Dark Knight</td>\n",
              "    </tr>\n",
              "    <tr>\n",
              "      <th>64</th>\n",
              "      <td>The Prestige</td>\n",
              "    </tr>\n",
              "    <tr>\n",
              "      <th>75</th>\n",
              "      <td>Pirates of the Caribbean: At World's End</td>\n",
              "    </tr>\n",
              "    <tr>\n",
              "      <th>77</th>\n",
              "      <td>Inglourious Basterds</td>\n",
              "    </tr>\n",
              "    <tr>\n",
              "      <th>...</th>\n",
              "      <td>...</td>\n",
              "    </tr>\n",
              "    <tr>\n",
              "      <th>990</th>\n",
              "      <td>Underworld: Rise of the Lycans</td>\n",
              "    </tr>\n",
              "    <tr>\n",
              "      <th>991</th>\n",
              "      <td>Taare Zameen Par</td>\n",
              "    </tr>\n",
              "    <tr>\n",
              "      <th>993</th>\n",
              "      <td>Resident Evil: Afterlife</td>\n",
              "    </tr>\n",
              "    <tr>\n",
              "      <th>996</th>\n",
              "      <td>Hostel: Part II</td>\n",
              "    </tr>\n",
              "    <tr>\n",
              "      <th>997</th>\n",
              "      <td>Step Up 2: The Streets</td>\n",
              "    </tr>\n",
              "  </tbody>\n",
              "</table>\n",
              "<p>260 rows × 1 columns</p>\n",
              "</div>"
            ],
            "text/plain": [
              "                                        Title\n",
              "39                                  5- 25- 77\n",
              "54                            The Dark Knight\n",
              "64                               The Prestige\n",
              "75   Pirates of the Caribbean: At World's End\n",
              "77                       Inglourious Basterds\n",
              "..                                        ...\n",
              "990            Underworld: Rise of the Lycans\n",
              "991                          Taare Zameen Par\n",
              "993                  Resident Evil: Afterlife\n",
              "996                           Hostel: Part II\n",
              "997                    Step Up 2: The Streets\n",
              "\n",
              "[260 rows x 1 columns]"
            ]
          },
          "metadata": {
            "tags": []
          },
          "execution_count": 69
        }
      ]
    },
    {
      "cell_type": "markdown",
      "metadata": {
        "id": "RLM94lHgZbui"
      },
      "source": [
        "### Manipulation"
      ]
    },
    {
      "cell_type": "markdown",
      "metadata": {
        "id": "UYo2Yo0w2lzb"
      },
      "source": [
        "#### Sorting"
      ]
    },
    {
      "cell_type": "markdown",
      "metadata": {
        "id": "VrxJZBUnenU3"
      },
      "source": [
        "How can we order the dataset based on a column?"
      ]
    },
    {
      "cell_type": "code",
      "metadata": {
        "id": "PLurHJ24ew3I"
      },
      "source": [
        "df.sort_values('Runtime (Minutes)').head()"
      ],
      "execution_count": null,
      "outputs": []
    },
    {
      "cell_type": "markdown",
      "metadata": {
        "id": "XH47xFmOi3mY"
      },
      "source": [
        "Descending:"
      ]
    },
    {
      "cell_type": "code",
      "metadata": {
        "id": "RaC3vPY0i5oR"
      },
      "source": [
        "df.sort_values('Runtime (Minutes)', ascending=False).head()"
      ],
      "execution_count": null,
      "outputs": []
    },
    {
      "cell_type": "markdown",
      "metadata": {
        "id": "L60B6XDkgke-"
      },
      "source": [
        "__Note:__ Sorting creates a (sorted) copy, but does not change the original dataset!\n",
        "\n",
        "If you want to change the original dataset, you need to specify that by adding ```\n",
        "inplace=True\n",
        "```."
      ]
    },
    {
      "cell_type": "code",
      "metadata": {
        "id": "BLh5cJwJem0a"
      },
      "source": [
        "df.sort_values('Year', inplace=True)"
      ],
      "execution_count": null,
      "outputs": []
    },
    {
      "cell_type": "markdown",
      "metadata": {
        "id": "8rfKJVJE932n"
      },
      "source": [
        "#### Inserting"
      ]
    },
    {
      "cell_type": "markdown",
      "metadata": {
        "id": "v0favVR-0aGF"
      },
      "source": [
        "This is how to create a copy of a column:"
      ]
    },
    {
      "cell_type": "code",
      "metadata": {
        "id": "uH1hed-k0efz"
      },
      "source": [
        "df['Title Copy'] = df['Title']\n",
        "df.head()"
      ],
      "execution_count": null,
      "outputs": []
    },
    {
      "cell_type": "markdown",
      "metadata": {
        "id": "mNzKtAvtZb3E"
      },
      "source": [
        "Let's insert a new column with the difference between the metascore and the rating into the *dataframe*\n",
        "\n",
        "\n"
      ]
    },
    {
      "cell_type": "code",
      "metadata": {
        "id": "w5BsAirHZbc5"
      },
      "source": [
        "df['Rating Difference'] = df['Rating'] * 10 - df['Metascore']\n",
        "df.head()"
      ],
      "execution_count": null,
      "outputs": []
    },
    {
      "cell_type": "markdown",
      "metadata": {
        "id": "Gehk5Za7hR1p"
      },
      "source": [
        "__Note:__ We have to multiply the rating by 10, because it between 0 and 10, while the metascore is between 0 and 100 (percent). In this way the two will be comparable."
      ]
    },
    {
      "cell_type": "markdown",
      "metadata": {
        "id": "al4Mw0nyLpKB"
      },
      "source": [
        "#### Deleting"
      ]
    },
    {
      "cell_type": "markdown",
      "metadata": {
        "id": "DESAbIKoApIG"
      },
      "source": [
        "To delete a row:"
      ]
    },
    {
      "cell_type": "code",
      "metadata": {
        "id": "f1cK3G4F93pG"
      },
      "source": [
        "df.drop('Guardians of the Galaxy', axis=0)"
      ],
      "execution_count": null,
      "outputs": []
    },
    {
      "cell_type": "markdown",
      "metadata": {
        "id": "mvpEuoTtBQOx"
      },
      "source": [
        "__Note:__ This creates a copy, like sorting, if you want to change the table you have to add `inplace=True` like above."
      ]
    },
    {
      "cell_type": "markdown",
      "metadata": {
        "id": "Fb3Wz7ElBeq9"
      },
      "source": [
        "To delete a column:"
      ]
    },
    {
      "cell_type": "code",
      "metadata": {
        "id": "DnICmQyIBha_"
      },
      "source": [
        "df.drop('Genre', axis=1)"
      ],
      "execution_count": null,
      "outputs": []
    },
    {
      "cell_type": "markdown",
      "metadata": {
        "id": "-SajMcwn1Wq7"
      },
      "source": [
        "#### Saving\n",
        "When we're done manipulating a table, we might want to store it"
      ]
    },
    {
      "cell_type": "code",
      "metadata": {
        "id": "OAfOLnCO1eZv"
      },
      "source": [
        "df.to_csv('Test.csv') # Save as a CSV file"
      ],
      "execution_count": null,
      "outputs": []
    },
    {
      "cell_type": "code",
      "metadata": {
        "id": "wSNnkV4a15TV"
      },
      "source": [
        "df.to_excel('Test.xlsx') # Save as a Excel file"
      ],
      "execution_count": null,
      "outputs": []
    },
    {
      "cell_type": "markdown",
      "metadata": {
        "id": "gtK3omTg3a61"
      },
      "source": [
        "### _Advanced:_ Group By"
      ]
    },
    {
      "cell_type": "markdown",
      "metadata": {
        "id": "wIW0lMnfBs_d"
      },
      "source": [
        "We can use `groupby` to group the data by column values "
      ]
    },
    {
      "cell_type": "code",
      "metadata": {
        "id": "0gNbRurYF1sa"
      },
      "source": [
        "director_counts = df.groupby('Director')['Rating'].count()\n",
        "\n",
        "director_counts.sort_values(ascending=False).head()"
      ],
      "execution_count": null,
      "outputs": []
    },
    {
      "cell_type": "markdown",
      "metadata": {
        "id": "CXAjixeUG0JA"
      },
      "source": [
        "The above code counts how many movies each director has released.\n",
        "\n",
        "We can use a similar method to find the average (mean) movie rating of each director "
      ]
    },
    {
      "cell_type": "code",
      "metadata": {
        "id": "j8lpud8SG_IB"
      },
      "source": [
        "director_ratings = df.groupby('Director')['Rating'].mean()\n",
        "\n",
        "director_ratings.sort_values(ascending=True).head()"
      ],
      "execution_count": null,
      "outputs": []
    },
    {
      "cell_type": "markdown",
      "metadata": {
        "id": "9FtS6EgXHSCH"
      },
      "source": [
        "There are also a lot of other statistical operators available in Pandas, but we unfortunatly cannot cover all of them here."
      ]
    },
    {
      "cell_type": "markdown",
      "metadata": {
        "id": "iFkf_AeKZj8Q"
      },
      "source": [
        "## Practice"
      ]
    },
    {
      "cell_type": "markdown",
      "metadata": {
        "id": "VOPacfO9ZoPC"
      },
      "source": [
        "1. What are the five best movie releases in the year 2014?\n",
        "1. What is the worst drama released after 2016 (in terms of metascore)?\n",
        "1. Which movie in the dataframe has the longest runtime?\n",
        "1. What is the mean revenue of all movies by Steven Spielberg in the dataset?\n",
        "1. _**(Advanced)**_ Of which genre combination are the most movies?"
      ]
    },
    {
      "cell_type": "markdown",
      "metadata": {
        "id": "0oAbKOTWzTsV"
      },
      "source": [
        "##### Solution for 1."
      ]
    },
    {
      "cell_type": "code",
      "metadata": {
        "id": "0wM84DZJUB9c"
      },
      "source": [
        "movies_from_2014 = df.loc[df['Year'] == 2014]\n",
        "\n",
        "movies_from_2014.sort_values('Rating', ascending=False).head()"
      ],
      "execution_count": null,
      "outputs": []
    },
    {
      "cell_type": "markdown",
      "metadata": {
        "id": "BSOpBMVcRZS2"
      },
      "source": [
        "##### Solution for 2."
      ]
    },
    {
      "cell_type": "code",
      "metadata": {
        "id": "4Nqypnx2RIiq"
      },
      "source": [
        "movies_from_2016 = df.loc[df['Year'] >= 2016]\n",
        "\n",
        "movies_from_2016.sort_values('Metascore').head(5)"
      ],
      "execution_count": null,
      "outputs": []
    },
    {
      "cell_type": "markdown",
      "metadata": {
        "id": "xrEEe7KfRYxO"
      },
      "source": [
        "##### Solution for 3."
      ]
    },
    {
      "cell_type": "code",
      "metadata": {
        "id": "7lGe2g7JSN-D"
      },
      "source": [
        "df.sort_values('Runtime (Minutes)', ascending=False).head(1)"
      ],
      "execution_count": null,
      "outputs": []
    },
    {
      "cell_type": "markdown",
      "metadata": {
        "id": "IqDh6VA_TQqC"
      },
      "source": [
        "##### Solution for 4."
      ]
    },
    {
      "cell_type": "code",
      "metadata": {
        "id": "rpjqcTJuTVBB"
      },
      "source": [
        "df[df['Director'] == 'Steven Spielberg']['Revenue (Millions)'].mean()"
      ],
      "execution_count": null,
      "outputs": []
    },
    {
      "cell_type": "markdown",
      "metadata": {
        "id": "NDkbEA1IzcY0"
      },
      "source": [
        "##### Solution for 5."
      ]
    },
    {
      "cell_type": "code",
      "metadata": {
        "id": "_PPSr3_T2fHE"
      },
      "source": [
        "df.groupby('Genre')['Rank'].count().sort_values(ascending=False).head()"
      ],
      "execution_count": null,
      "outputs": []
    },
    {
      "cell_type": "markdown",
      "metadata": {
        "id": "9D7-OlxrSRxb"
      },
      "source": [
        "# Next Event Preview"
      ]
    },
    {
      "cell_type": "code",
      "metadata": {
        "id": "EnfJJewuRiCC",
        "colab": {
          "base_uri": "https://localhost:8080/"
        },
        "outputId": "b98309df-aeb4-4aec-f01a-09b17c1be85a"
      },
      "source": [
        "!pip install yfinance"
      ],
      "execution_count": null,
      "outputs": [
        {
          "output_type": "stream",
          "text": [
            "Requirement already satisfied: yfinance in /usr/local/lib/python3.7/dist-packages (0.1.56)\n",
            "Requirement already satisfied: requests>=2.20 in /usr/local/lib/python3.7/dist-packages (from yfinance) (2.23.0)\n",
            "Requirement already satisfied: pandas>=0.24 in /usr/local/lib/python3.7/dist-packages (from yfinance) (1.1.5)\n",
            "Requirement already satisfied: numpy>=1.15 in /usr/local/lib/python3.7/dist-packages (from yfinance) (1.19.5)\n",
            "Requirement already satisfied: lxml>=4.5.1 in /usr/local/lib/python3.7/dist-packages (from yfinance) (4.6.3)\n",
            "Requirement already satisfied: multitasking>=0.0.7 in /usr/local/lib/python3.7/dist-packages (from yfinance) (0.0.9)\n",
            "Requirement already satisfied: idna<3,>=2.5 in /usr/local/lib/python3.7/dist-packages (from requests>=2.20->yfinance) (2.10)\n",
            "Requirement already satisfied: urllib3!=1.25.0,!=1.25.1,<1.26,>=1.21.1 in /usr/local/lib/python3.7/dist-packages (from requests>=2.20->yfinance) (1.24.3)\n",
            "Requirement already satisfied: chardet<4,>=3.0.2 in /usr/local/lib/python3.7/dist-packages (from requests>=2.20->yfinance) (3.0.4)\n",
            "Requirement already satisfied: certifi>=2017.4.17 in /usr/local/lib/python3.7/dist-packages (from requests>=2.20->yfinance) (2020.12.5)\n",
            "Requirement already satisfied: pytz>=2017.2 in /usr/local/lib/python3.7/dist-packages (from pandas>=0.24->yfinance) (2018.9)\n",
            "Requirement already satisfied: python-dateutil>=2.7.3 in /usr/local/lib/python3.7/dist-packages (from pandas>=0.24->yfinance) (2.8.1)\n",
            "Requirement already satisfied: six>=1.5 in /usr/local/lib/python3.7/dist-packages (from python-dateutil>=2.7.3->pandas>=0.24->yfinance) (1.15.0)\n"
          ],
          "name": "stdout"
        }
      ]
    },
    {
      "cell_type": "code",
      "metadata": {
        "id": "KIzxw4guRXBF",
        "colab": {
          "base_uri": "https://localhost:8080/",
          "height": 500
        },
        "outputId": "85315471-10eb-4855-b7f8-068e926c2e5a"
      },
      "source": [
        "from matplotlib import pyplot as plt\n",
        "\n",
        "import yfinance as yf\n",
        " \n",
        "aapl_stock = yf.download(tickers='AAPL', period='1d', interval='5m')\n",
        "\n",
        "plt.plot(aapl_stock['High'])\n",
        "plt.show()\n",
        "\n",
        "aapl_stock.head()"
      ],
      "execution_count": null,
      "outputs": [
        {
          "output_type": "stream",
          "text": [
            "\r[*********************100%***********************]  1 of 1 completed\n"
          ],
          "name": "stdout"
        },
        {
          "output_type": "display_data",
          "data": {
            "image/png": "[encoded data removed]",
            "text/plain": [
              "<Figure size 432x288 with 1 Axes>"
            ]
          },
          "metadata": {
            "tags": [],
            "needs_background": "light"
          }
        },
        {
          "output_type": "execute_result",
          "data": {
            "text/html": [
              "<div>\n",
              "<style scoped>\n",
              "    .dataframe tbody tr th:only-of-type {\n",
              "        vertical-align: middle;\n",
              "    }\n",
              "\n",
              "    .dataframe tbody tr th {\n",
              "        vertical-align: top;\n",
              "    }\n",
              "\n",
              "    .dataframe thead th {\n",
              "        text-align: right;\n",
              "    }\n",
              "</style>\n",
              "<table border=\"1\" class=\"dataframe\">\n",
              "  <thead>\n",
              "    <tr style=\"text-align: right;\">\n",
              "      <th></th>\n",
              "      <th>Open</th>\n",
              "      <th>High</th>\n",
              "      <th>Low</th>\n",
              "      <th>Close</th>\n",
              "      <th>Adj Close</th>\n",
              "      <th>Volume</th>\n",
              "    </tr>\n",
              "    <tr>\n",
              "      <th>Datetime</th>\n",
              "      <th></th>\n",
              "      <th></th>\n",
              "      <th></th>\n",
              "      <th></th>\n",
              "      <th></th>\n",
              "      <th></th>\n",
              "    </tr>\n",
              "  </thead>\n",
              "  <tbody>\n",
              "    <tr>\n",
              "      <th>2021-03-24 09:30:00-04:00</th>\n",
              "      <td>122.820000</td>\n",
              "      <td>122.900002</td>\n",
              "      <td>122.242996</td>\n",
              "      <td>122.242996</td>\n",
              "      <td>122.242996</td>\n",
              "      <td>3196886</td>\n",
              "    </tr>\n",
              "    <tr>\n",
              "      <th>2021-03-24 09:35:00-04:00</th>\n",
              "      <td>122.250000</td>\n",
              "      <td>122.370003</td>\n",
              "      <td>122.029999</td>\n",
              "      <td>122.169899</td>\n",
              "      <td>122.169899</td>\n",
              "      <td>1610394</td>\n",
              "    </tr>\n",
              "    <tr>\n",
              "      <th>2021-03-24 09:40:00-04:00</th>\n",
              "      <td>122.000000</td>\n",
              "      <td>122.180000</td>\n",
              "      <td>121.889999</td>\n",
              "      <td>122.079201</td>\n",
              "      <td>122.079201</td>\n",
              "      <td>1728938</td>\n",
              "    </tr>\n",
              "    <tr>\n",
              "      <th>2021-03-24 09:45:00-04:00</th>\n",
              "      <td>122.169998</td>\n",
              "      <td>122.169998</td>\n",
              "      <td>121.625000</td>\n",
              "      <td>121.684998</td>\n",
              "      <td>121.684998</td>\n",
              "      <td>1610492</td>\n",
              "    </tr>\n",
              "    <tr>\n",
              "      <th>2021-03-24 09:50:00-04:00</th>\n",
              "      <td>121.714996</td>\n",
              "      <td>121.885002</td>\n",
              "      <td>121.614998</td>\n",
              "      <td>121.877602</td>\n",
              "      <td>121.877602</td>\n",
              "      <td>1540148</td>\n",
              "    </tr>\n",
              "  </tbody>\n",
              "</table>\n",
              "</div>"
            ],
            "text/plain": [
              "                                 Open        High  ...   Adj Close   Volume\n",
              "Datetime                                           ...                     \n",
              "2021-03-24 09:30:00-04:00  122.820000  122.900002  ...  122.242996  3196886\n",
              "2021-03-24 09:35:00-04:00  122.250000  122.370003  ...  122.169899  1610394\n",
              "2021-03-24 09:40:00-04:00  122.000000  122.180000  ...  122.079201  1728938\n",
              "2021-03-24 09:45:00-04:00  122.169998  122.169998  ...  121.684998  1610492\n",
              "2021-03-24 09:50:00-04:00  121.714996  121.885002  ...  121.877602  1540148\n",
              "\n",
              "[5 rows x 6 columns]"
            ]
          },
          "metadata": {
            "tags": []
          },
          "execution_count": 12
        }
      ]
    },
    {
      "cell_type": "markdown",
      "metadata": {
        "id": "OYGTGSmAHfnf"
      },
      "source": [
        "# Useful Resources\n",
        "\n",
        "- Basics of python\n",
        "  - [Notes from a past workshop](https://colab.research.google.com/drive/1WiNoCNBPKGQxdjvXUXSpCLS47ROc3pOB?usp=sharing)\n",
        "  - [Free online book for Python beginners](https://automatetheboringstuff.com/2e/chapter0/)\n",
        "\n",
        "- Pandas:\n",
        "  - [Good introduction to Pandas](https://www.kaggle.com/learn/pandas)\n",
        "\n",
        "## Discord\n",
        "\n",
        "Feel free to [join](https://discord.com/invite/N8JWDAr36u) our discord if you have any questions!"
      ]
    }
  ]
}